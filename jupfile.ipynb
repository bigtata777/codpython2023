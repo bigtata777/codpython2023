{
 "cells": [
  {
   "cell_type": "code",
<<<<<<< HEAD
   "execution_count": 16,
=======
   "execution_count": 10,
>>>>>>> 22effaa (procesado de la data y creacion del texto)
   "metadata": {},
   "outputs": [],
   "source": [
    "from sklearn.metrics.pairwise import cosine_similarity\n",
    "from sentence_transformers import SentenceTransformer, util\n",
    "import pandas as pd\n",
    "from ast import literal_eval"
   ]
  },
  {
   "cell_type": "code",
<<<<<<< HEAD
   "execution_count": 17,
=======
   "execution_count": 11,
>>>>>>> 22effaa (procesado de la data y creacion del texto)
   "metadata": {},
   "outputs": [],
   "source": [
    "df = pd.read_csv('peliculas.csv')\n",
    "\n",
    "def concatenar_lista(listas):\n",
    "    lista = literal_eval(listas)\n",
    "    return ' '.join(lista)\n",
    "\n",
    "def string_tolist(lista):\n",
    "    lista = literal_eval(lista)\n",
    "    return lista\n"
   ]
  },
  {
   "cell_type": "code",
<<<<<<< HEAD
   "execution_count": 20,
=======
   "execution_count": 15,
>>>>>>> 22effaa (procesado de la data y creacion del texto)
   "metadata": {},
   "outputs": [
    {
     "data": {
      "text/html": [
       "<div>\n",
       "<style scoped>\n",
       "    .dataframe tbody tr th:only-of-type {\n",
       "        vertical-align: middle;\n",
       "    }\n",
       "\n",
       "    .dataframe tbody tr th {\n",
       "        vertical-align: top;\n",
       "    }\n",
       "\n",
       "    .dataframe thead th {\n",
       "        text-align: right;\n",
       "    }\n",
       "</style>\n",
       "<table border=\"1\" class=\"dataframe\">\n",
       "  <thead>\n",
       "    <tr style=\"text-align: right;\">\n",
       "      <th></th>\n",
       "      <th>movie title</th>\n",
       "      <th>Run Time</th>\n",
       "      <th>Rating</th>\n",
       "      <th>User Rating</th>\n",
       "      <th>Generes</th>\n",
       "      <th>Overview</th>\n",
       "      <th>Plot Kyeword</th>\n",
       "      <th>Director</th>\n",
       "      <th>Top 5 Casts</th>\n",
       "      <th>Writer</th>\n",
       "      <th>year</th>\n",
       "      <th>path</th>\n",
<<<<<<< HEAD
       "      <th>Keywords</th>\n",
       "      <th>Stars</th>\n",
       "      <th>generos_pelis</th>\n",
       "      <th>texo</th>\n",
=======
       "      <th>keywords</th>\n",
       "      <th>Generos_pelis</th>\n",
       "      <th>casting</th>\n",
       "      <th>texto</th>\n",
>>>>>>> 22effaa (procesado de la data y creacion del texto)
       "    </tr>\n",
       "  </thead>\n",
       "  <tbody>\n",
       "    <tr>\n",
       "      <th>0</th>\n",
       "      <td>Top Gun: Maverick</td>\n",
       "      <td>$170,000,000 (estimated)</td>\n",
       "      <td>8.6</td>\n",
       "      <td>187K</td>\n",
       "      <td>['Action', 'Drama']</td>\n",
       "      <td>After more than thirty years of service as one...</td>\n",
       "      <td>['fighter jet', 'sequel', 'u.s. navy', 'fighte...</td>\n",
       "      <td>Joseph Kosinski</td>\n",
       "      <td>['Jack Epps Jr.', 'Peter Craig', 'Tom Cruise',...</td>\n",
       "      <td>Jim Cash</td>\n",
       "      <td>-2022</td>\n",
       "      <td>/title/tt1745960/</td>\n",
       "      <td>fighter jet sequel u.s. navy fighter aircraft ...</td>\n",
<<<<<<< HEAD
       "      <td>Jack Epps Jr. Peter Craig Tom Cruise Jennifer ...</td>\n",
       "      <td>Action Drama</td>\n",
=======
       "      <td>Action Drama</td>\n",
       "      <td>Jack Epps Jr. Peter Craig Tom Cruise Jennifer ...</td>\n",
>>>>>>> 22effaa (procesado de la data y creacion del texto)
       "      <td>After more than thirty years of service as one...</td>\n",
       "    </tr>\n",
       "    <tr>\n",
       "      <th>1</th>\n",
       "      <td>Jurassic World Dominion</td>\n",
       "      <td>2 hours 27 minutes</td>\n",
       "      <td>6</td>\n",
       "      <td>56K</td>\n",
       "      <td>['Action', 'Adventure', 'Sci-Fi']</td>\n",
       "      <td>Four years after the destruction of Isla Nubla...</td>\n",
       "      <td>['dinosaur', 'jurassic park', 'tyrannosaurus r...</td>\n",
       "      <td>Colin Trevorrow</td>\n",
       "      <td>['Colin Trevorrow', 'Derek Connolly', 'Chris P...</td>\n",
       "      <td>Emily Carmichael</td>\n",
       "      <td>-2022</td>\n",
       "      <td>/title/tt8041270/</td>\n",
       "      <td>dinosaur jurassic park tyrannosaurus rex veloc...</td>\n",
<<<<<<< HEAD
       "      <td>Colin Trevorrow Derek Connolly Chris Pratt Bry...</td>\n",
       "      <td>Action Adventure Sci-Fi</td>\n",
=======
       "      <td>Action Adventure Sci-Fi</td>\n",
       "      <td>Colin Trevorrow Derek Connolly Chris Pratt Bry...</td>\n",
>>>>>>> 22effaa (procesado de la data y creacion del texto)
       "      <td>Four years after the destruction of Isla Nubla...</td>\n",
       "    </tr>\n",
       "  </tbody>\n",
       "</table>\n",
       "</div>"
      ],
      "text/plain": [
       "               movie title                  Run Time Rating User Rating  \\\n",
       "0        Top Gun: Maverick  $170,000,000 (estimated)    8.6        187K   \n",
       "1  Jurassic World Dominion        2 hours 27 minutes      6         56K   \n",
       "\n",
       "                             Generes  \\\n",
       "0                ['Action', 'Drama']   \n",
       "1  ['Action', 'Adventure', 'Sci-Fi']   \n",
       "\n",
       "                                            Overview  \\\n",
       "0  After more than thirty years of service as one...   \n",
       "1  Four years after the destruction of Isla Nubla...   \n",
       "\n",
       "                                        Plot Kyeword         Director  \\\n",
       "0  ['fighter jet', 'sequel', 'u.s. navy', 'fighte...  Joseph Kosinski   \n",
       "1  ['dinosaur', 'jurassic park', 'tyrannosaurus r...  Colin Trevorrow   \n",
       "\n",
       "                                         Top 5 Casts            Writer   year  \\\n",
       "0  ['Jack Epps Jr.', 'Peter Craig', 'Tom Cruise',...          Jim Cash  -2022   \n",
       "1  ['Colin Trevorrow', 'Derek Connolly', 'Chris P...  Emily Carmichael  -2022   \n",
       "\n",
<<<<<<< HEAD
       "                path                                           Keywords  \\\n",
       "0  /title/tt1745960/  fighter jet sequel u.s. navy fighter aircraft ...   \n",
       "1  /title/tt8041270/  dinosaur jurassic park tyrannosaurus rex veloc...   \n",
       "\n",
       "                                               Stars            generos_pelis  \\\n",
       "0  Jack Epps Jr. Peter Craig Tom Cruise Jennifer ...             Action Drama   \n",
       "1  Colin Trevorrow Derek Connolly Chris Pratt Bry...  Action Adventure Sci-Fi   \n",
       "\n",
       "                                                texo  \n",
=======
       "                path                                           keywords  \\\n",
       "0  /title/tt1745960/  fighter jet sequel u.s. navy fighter aircraft ...   \n",
       "1  /title/tt8041270/  dinosaur jurassic park tyrannosaurus rex veloc...   \n",
       "\n",
       "             Generos_pelis                                            casting  \\\n",
       "0             Action Drama  Jack Epps Jr. Peter Craig Tom Cruise Jennifer ...   \n",
       "1  Action Adventure Sci-Fi  Colin Trevorrow Derek Connolly Chris Pratt Bry...   \n",
       "\n",
       "                                               texto  \n",
>>>>>>> 22effaa (procesado de la data y creacion del texto)
       "0  After more than thirty years of service as one...  \n",
       "1  Four years after the destruction of Isla Nubla...  "
      ]
     },
<<<<<<< HEAD
     "execution_count": 20,
=======
     "execution_count": 15,
>>>>>>> 22effaa (procesado de la data y creacion del texto)
     "metadata": {},
     "output_type": "execute_result"
    }
   ],
   "source": [
<<<<<<< HEAD
    "df['Keywords'] = df['Plot Kyeword'].apply(concatenar_lista)\n",
    "df['Stars'] = df['Top 5 Casts'].apply(concatenar_lista)\n",
    "df['generos_pelis'] = df['Generes'].apply(concatenar_lista)\n",
    "df['texo'] = df.apply(lambda x: str(x['Overview'])+' '+str(x['Keywords'])+' '+str(x['Stars'])+' '+str(x['generos_pelis']) , axis=1)\n",
=======
    "df['keywords'] = df['Plot Kyeword'].apply(concatenar_lista)\n",
    "df['Generos_pelis'] = df['Generes'].apply(concatenar_lista)\n",
    "df['casting'] = df['Top 5 Casts'].apply(concatenar_lista)\n",
    "df['texto'] = df.apply(lambda x: str(x['Overview'])+' '+ str(x['keywords'])+' '+str(x['casting'])+' '+str(x['Generos_pelis']), axis=1)\n",
    "\n",
>>>>>>> 22effaa (procesado de la data y creacion del texto)
    "df.head(2)"
   ]
  },
  {
   "cell_type": "code",
   "execution_count": null,
   "metadata": {},
   "outputs": [],
   "source": []
<<<<<<< HEAD
  },
  {
   "cell_type": "code",
   "execution_count": null,
   "metadata": {},
   "outputs": [],
   "source": []
=======
>>>>>>> 22effaa (procesado de la data y creacion del texto)
  }
 ],
 "metadata": {
  "kernelspec": {
   "display_name": "LLM-Q9JcUDm0",
   "language": "python",
   "name": "python3"
  },
  "language_info": {
   "codemirror_mode": {
    "name": "ipython",
    "version": 3
   },
   "file_extension": ".py",
   "mimetype": "text/x-python",
   "name": "python",
   "nbconvert_exporter": "python",
   "pygments_lexer": "ipython3",
   "version": "3.10.12"
  }
 },
 "nbformat": 4,
 "nbformat_minor": 2
}
